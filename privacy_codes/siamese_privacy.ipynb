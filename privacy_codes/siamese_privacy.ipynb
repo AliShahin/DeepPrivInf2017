{
 "cells": [
  {
   "cell_type": "code",
   "execution_count": 1,
   "metadata": {
    "collapsed": false
   },
   "outputs": [
    {
     "name": "stderr",
     "output_type": "stream",
     "text": [
      "/usr/local/lib/python2.7/dist-packages/sklearn/cross_validation.py:44: DeprecationWarning: This module was deprecated in version 0.18 in favor of the model_selection module into which all the refactored classes and functions are moved. Also note that the interface of the new CV iterators are different from that of this module. This module will be removed in 0.20.\n",
      "  \"This module will be removed in 0.20.\", DeprecationWarning)\n"
     ]
    }
   ],
   "source": [
    "import subprocess\n",
    "import platform\n",
    "import lmdb\n",
    "import Image\n",
    "import sys\n",
    "import copy \n",
    "import numpy as np\n",
    "import PIL.Image\n",
    "import matplotlib.pyplot as plt\n",
    "from StringIO import StringIO\n",
    "from caffe.proto import caffe_pb2\n",
    "from sklearn.cross_validation import StratifiedShuffleSplit\n",
    "from sklearn import decomposition\n",
    "from sklearn import preprocessing\n",
    "from sklearn.neighbors.kde import KernelDensity\n",
    "from scipy.stats import multivariate_normal\n",
    "from scipy.stats.mstats import rankdata\n",
    "from sklearn.externals import joblib\n",
    "from __future__ import division\n",
    "%matplotlib inline"
   ]
  },
  {
   "cell_type": "markdown",
   "metadata": {
    "collapsed": true
   },
   "source": [
    "std: 0 .5 1 2 3"
   ]
  },
  {
   "cell_type": "code",
   "execution_count": 2,
   "metadata": {
    "collapsed": false
   },
   "outputs": [
    {
     "name": "stdout",
     "output_type": "stream",
     "text": [
      "OS:      Linux-3.13.0-65-generic-x86_64-with-Ubuntu-14.04-trusty\n",
      "Python:  2.7.6 (default, Oct 26 2016, 20:30:19) \n",
      "CUDA:    Cuda compilation tools, release 7.5, V7.5.17\n",
      "LMDB:    0.9.18\n"
     ]
    }
   ],
   "source": [
    "import caffe\n",
    "caffe.set_mode_gpu()\n",
    "caffe.set_device(1)\n",
    "\n",
    "print \"OS:     \", platform.platform()\n",
    "print \"Python: \", sys.version.split(\"\\n\")[0]\n",
    "print \"CUDA:   \", subprocess.Popen([\"nvcc\",\"--version\"], stdout=subprocess.PIPE).communicate()[0].split(\"\\n\")[3]\n",
    "print \"LMDB:   \", \".\".join([str(i) for i in lmdb.version()])"
   ]
  },
  {
   "cell_type": "code",
   "execution_count": 3,
   "metadata": {
    "collapsed": false
   },
   "outputs": [
    {
     "name": "stdout",
     "output_type": "stream",
     "text": [
      "fc6/siamese/\n"
     ]
    }
   ],
   "source": [
    "kind = 'siamese'\n",
    "mid_layer = 'fc6'\n",
    "next_layer = 'fc7'\n",
    "addr = mid_layer+'/'+kind+'/'\n",
    "print addr\n",
    "num_pca = 4\n",
    "repeat = 4"
   ]
  },
  {
   "cell_type": "code",
   "execution_count": 15,
   "metadata": {
    "collapsed": false
   },
   "outputs": [],
   "source": [
    "def load_all_middle_features(net, middle_layer_name, num_batch, istest):\n",
    "    # Loading all features from middle layer\n",
    "    # num_batch is not the batch_size. (batch_size is set before in training)\n",
    "    features = []\n",
    "    labels = []\n",
    "    acc = 0\n",
    "    middle_layer_shape = net.blobs[middle_layer_name].data.shape\n",
    "    for i in range(0, num_batch):\n",
    "        out = net.forward(blobs=[middle_layer_name,'label'])\n",
    "        features.append(copy.copy(np.reshape(out[middle_layer_name],(middle_layer_shape[0],-1) )))\n",
    "        labels.append(copy.copy(out['label']))\n",
    "        if istest==True :\n",
    "            acc = acc + net.blobs['accuracy_test_top01'].data #accuracy_test_top01\n",
    "    acc = acc / num_batch\n",
    "    if istest==True:\n",
    "        print('Accuracy of test is {:f}'.format(acc))\n",
    "    features = np.concatenate(features, axis=0)\n",
    "    labels = np.concatenate(labels, axis=0)\n",
    "    print('Features are loaded')\n",
    "    print('Percentage of men is {:f}'.format(np.sum(labels)/labels.shape[0]))\n",
    "    return features, labels\n",
    "\n",
    "def my_pca(features, labels, num_pca):\n",
    "    #mean_feature = np.mean(features, axis=0)\n",
    "    #normalized_features = features - mean_feature\n",
    "    #pca = decomposition.PCA(svd_solver='randomized')\n",
    "    pca = decomposition.IncrementalPCA(batch_size=50)\n",
    "    pca.n_components = num_pca\n",
    "    pca.fit(features)\n",
    "    print('Remained variance is:') \n",
    "    print(pca.explained_variance_ratio_) \n",
    "    X_reduced = pca.transform(features)\n",
    "    print('PCA is fitted')\n",
    "    if num_pca==2:\n",
    "        plt.figure()\n",
    "        for c, i in zip(\"rgbcmyk\", [0, 1, 2, 3, 4, 5, 6]):\n",
    "            plt.scatter(X_reduced[labels == i, 0], X_reduced[labels == i, 1], c=c)\n",
    "        plt.title('PCA of features')\n",
    "    return pca, X_reduced\n",
    "\n",
    "def pirvacy_ek(X_reduced, X_reduced_noisy, noise_var):\n",
    "    # Compute Privacy Measure\n",
    "    # kde = KernelDensity(kernel='gaussian', bandwidth=1).fit(X_reduced_noisy)\n",
    "    numdata = X_reduced.shape[0]\n",
    "    d = np.array([X_reduced,]*numdata) - np.transpose(np.array([X_reduced_noisy,]*numdata),(1,0,2)) #order?\n",
    "    e = multivariate_normal.pdf(d,np.zeros([X_reduced.shape[1],]), noise_var*np.eye(X_reduced.shape[1]))\n",
    "    e = e.T                               # added now\n",
    "    r = e/np.max(e,0)\n",
    "    m = np.sum(r>.8,0)\n",
    "    ranks = 1 + numdata - rankdata(r,0)\n",
    "    trueranks = np.diag(ranks)\n",
    "    res = np.maximum(m,trueranks)\n",
    "    res = trueranks                       # watch here\n",
    "    correct_rate = sum(res==1)/numdata\n",
    "    print('min is {:f}      max is {:f}      mean is {:f}      std is {:f}      ratio of ranked one is {:f} '\n",
    "          .format(min(res), max(res), np.mean(res), np.std(res), correct_rate))\n",
    "\n",
    "    res = res / numdata\n",
    "    priv = np.mean(res)\n",
    "    print('Expected ek-privacy is {:f}'.format(priv))\n",
    "    return priv, correct_rate\n",
    "\n",
    "def compute_acc(net, middle_layer_name, next_layer_name, reconst_all_middles, reconst_all_labels, num_batch):\n",
    "    newacc = 0\n",
    "    print(reconst_all_middles.shape)\n",
    "    for i in range(0, num_batch):\n",
    "        if middle_layer_name != 'fc6':\n",
    "            net.blobs[middle_layer_name].data[...] = reconst_all_middles[i,:,:,:,:]\n",
    "        else:\n",
    "            net.blobs[middle_layer_name].data[...] = reconst_all_middles[i,:]\n",
    "        net.blobs['label'].data[...] = reconst_all_labels[i,:]\n",
    "        net.forward(start=next_layer_name, end='accuracy_test_top01') #accuracy_test_top01 for gender\n",
    "        newacc = newacc + net.blobs['accuracy_test_top01'].data\n",
    "    newacc = newacc / num_batch\n",
    "    print('Accuracy of test on reconstructed features from PCA is {:f}'.format(newacc))\n",
    "    return newacc\n",
    "\n",
    "def reduce_dim_test(pca, features, labels):\n",
    "    #normalized_features = features - mean_feature\n",
    "    X_reduced = pca.transform(features)\n",
    "    print('extracted PCA from train data is fitted to test data')\n",
    "    if pca.n_components==2:\n",
    "        plt.figure()\n",
    "        for c, i in zip(\"rgbcmyk\", [0, 1, 2, 3, 4, 5, 6]):\n",
    "            plt.scatter(X_reduced[labels == i, 0], X_reduced[labels == i, 1], c=c)\n",
    "        plt.title('PCA of features')\n",
    "    return X_reduced"
   ]
  },
  {
   "cell_type": "code",
   "execution_count": 6,
   "metadata": {
    "collapsed": false
   },
   "outputs": [],
   "source": [
    "# PCA should be done on training data\n",
    "\n",
    "#net = caffe.Net('train/gender_train_simple.prototxt', '.simple_iter_6000.caffemodel', caffe.TRAIN) #simple\n",
    "#net = caffe.Net('train/gender_siamese_train_pool5_large.prototxt', '._iter_10500.caffemodel', caffe.TRAIN)\n",
    "net = caffe.Net(addr+'train.prototxt', addr+'caffemodels/_iter_7000.caffemodel', caffe.TRAIN)\n",
    "\n",
    "#net = caffe.Net('../../facial_expression/train_siamese_pool5.prototxt', '../../facial_expression/siamese_pool5_iter_1407.caffemodel', caffe.TRAIN)\n",
    "#net = caffe.Net('../../facial_expression/train_siamese_pool5.prototxt', '../../facial_expression/EmotiW_VGG_S.caffemodel', caffe.TRAIN)"
   ]
  },
  {
   "cell_type": "code",
   "execution_count": 7,
   "metadata": {
    "collapsed": false
   },
   "outputs": [
    {
     "name": "stdout",
     "output_type": "stream",
     "text": [
      "Features are loaded\n",
      "Percentage of men is 0.794000\n"
     ]
    }
   ],
   "source": [
    "features, labels = load_all_middle_features(net, mid_layer, 1000, False)\n",
    "#features, labels = load_all_middle_features(net, mid_layer, 130, False)"
   ]
  },
  {
   "cell_type": "code",
   "execution_count": null,
   "metadata": {
    "collapsed": true
   },
   "outputs": [],
   "source": [
    "#save features hdf5\n",
    "import h5py\n",
    "h5f = h5py.File(addr+'data.h5', 'w')\n",
    "h5f.create_dataset('features', data=features)\n",
    "h5f.create_dataset('labels', data=labels)\n",
    "h5f.close()"
   ]
  },
  {
   "cell_type": "code",
   "execution_count": null,
   "metadata": {
    "collapsed": false
   },
   "outputs": [],
   "source": [
    "#load features hdf5\n",
    "import h5py\n",
    "h5f = h5py.File(addr+'data.h5','r')\n",
    "features = h5f['features'][:]\n",
    "labels = h5f['labels'][:]\n",
    "h5f.close()\n"
   ]
  },
  {
   "cell_type": "code",
   "execution_count": 8,
   "metadata": {
    "collapsed": false
   },
   "outputs": [
    {
     "name": "stdout",
     "output_type": "stream",
     "text": [
      "Remained variance is:\n",
      "[ 0.16387808  0.04057119  0.01826658  0.00685217]\n",
      "PCA is fitted\n"
     ]
    }
   ],
   "source": [
    "pca, X_reduced = my_pca(features, labels, num_pca)"
   ]
  },
  {
   "cell_type": "code",
   "execution_count": 9,
   "metadata": {
    "collapsed": false
   },
   "outputs": [
    {
     "data": {
      "text/plain": [
       "['fc6/siamese/pca/pca_4_f.pkl']"
      ]
     },
     "execution_count": 9,
     "metadata": {},
     "output_type": "execute_result"
    }
   ],
   "source": [
    "# saving pca results\n",
    "joblib.dump(pca, addr+'pca/pca_4_f.pkl', compress=9)\n",
    "#np.save(addr+'pca/mean_feature_8',mean_feature)"
   ]
  },
  {
   "cell_type": "code",
   "execution_count": 5,
   "metadata": {
    "collapsed": false
   },
   "outputs": [],
   "source": [
    "# load pca\n",
    "pca = joblib.load(addr+'pca/pca_'+str(num_pca)+'_f.pkl')\n",
    "#mean_feature = np.load(addr+'pca/mean_feature_'+str(num_pca)+'.npy')"
   ]
  },
  {
   "cell_type": "code",
   "execution_count": 6,
   "metadata": {
    "collapsed": true
   },
   "outputs": [],
   "source": [
    "def test_network_pca(net, pca, \n",
    "                     features=None, labels=None, X_reduced=None,\n",
    "                     middle_layer_name='pool5', next_layer_name='fc6', \n",
    "                     num_batch=20, num_pca=2, noise_var=0):\n",
    "    \n",
    "    #load all middle layer features\n",
    "    if features==None:\n",
    "        print('loading features')\n",
    "        features, labels = load_all_middle_features(net, middle_layer_name, num_batch)\n",
    "    \n",
    "    if X_reduced==None:\n",
    "        print('applying PCA')\n",
    "        X_reduced = reduce_dim_test(pca, features, labels)\n",
    "    \n",
    "    # add noise to PCA\n",
    "    noise = np.random.multivariate_normal(np.zeros([num_pca,]), noise_var*np.eye(num_pca), features.shape[0])\n",
    "    X_reduced_noisy = X_reduced + noise\n",
    "    \n",
    "    # compute privacy\n",
    "    priv, correct_rate = pirvacy_ek(X_reduced, X_reduced_noisy, noise_var)\n",
    "\n",
    "     \n",
    "    # Reconstruct PCA\n",
    "    noisy_reconst = pca.inverse_transform(X_reduced_noisy) \n",
    "    #noisy_reconst = temp_reconst + mean_feature    \n",
    "    \n",
    "    # reshaping to the correct form\n",
    "    middle_layer_shape = net.blobs[middle_layer_name].data.shape\n",
    "    reconst_all_middles = np.reshape(noisy_reconst, (num_batch,)+middle_layer_shape )\n",
    "    reconst_all_labels = np.reshape(labels, (num_batch,)+(middle_layer_shape[0],) )\n",
    "    print('Reconstruction is done from PCA projections')\n",
    "    \n",
    "    # Computing New Accuracy\n",
    "    newacc = compute_acc(net, middle_layer_name, next_layer_name, reconst_all_middles, reconst_all_labels, num_batch)\n",
    "\n",
    "    return newacc, priv, correct_rate"
   ]
  },
  {
   "cell_type": "code",
   "execution_count": 7,
   "metadata": {
    "collapsed": true
   },
   "outputs": [],
   "source": [
    "# with siamese 4\n",
    "#net = caffe.Net('train/gender_siamese_test_lfw.prototxt', '._iter_10500.caffemodel', caffe.TEST)\n",
    "\n",
    "\n",
    "# with siamse 2\n",
    "#net = caffe.Net('train/gender_siamese_train_pool5.prototxt', '._iter_8495.caffemodel', caffe.TEST)\n",
    "\n",
    "# simple fine tune\n",
    "#net = caffe.Net('train/gender_siamese_test_lfw.prototxt', '.simple_iter_6000.caffemodel', caffe.TEST)\n",
    "\n",
    "# simple raw\n",
    "#net = caffe.Net('train/gender_siamese_test_lfw.prototxt', '../gender.caffemodel', caffe.TEST)\n",
    "\n",
    "#net =caffe.Net('../../facial_expression/train_siamese_pool5.prototxt','../../facial_expression/EmotiW_VGG_S.caffemodel',caffe.TEST)\n",
    "\n",
    "#net =caffe.Net('../../facial_expression/train_siamese_pool5.prototxt','../../facial_expression/EmotiW_VGG_S.caffemodel',caffe.TEST)\n",
    "\n",
    "net = caffe.Net(addr+'train.prototxt', addr+'caffemodels/_iter_7000.caffemodel', caffe.TEST)"
   ]
  },
  {
   "cell_type": "code",
   "execution_count": 8,
   "metadata": {
    "collapsed": true
   },
   "outputs": [],
   "source": [
    "def test_accuracy(net, num_batch):\n",
    "    acc = 0\n",
    "    for i in range(0, num_batch):\n",
    "        out = net.forward()\n",
    "        acc = acc + net.blobs['accuracy_test_top01'].data\n",
    "    acc = acc / num_batch\n",
    "    print('Accuracy of test is {:f}'.format(acc))"
   ]
  },
  {
   "cell_type": "code",
   "execution_count": 9,
   "metadata": {
    "collapsed": false
   },
   "outputs": [
    {
     "name": "stdout",
     "output_type": "stream",
     "text": [
      "Accuracy of test is 0.924000\n"
     ]
    }
   ],
   "source": [
    "test_accuracy(net, 100)"
   ]
  },
  {
   "cell_type": "code",
   "execution_count": null,
   "metadata": {
    "collapsed": false
   },
   "outputs": [],
   "source": [
    "features, labels = load_all_middle_features(net, 'pool4', 200, True)"
   ]
  },
  {
   "cell_type": "code",
   "execution_count": null,
   "metadata": {
    "collapsed": true
   },
   "outputs": [],
   "source": [
    "#save features hdf5\n",
    "import h5py\n",
    "h5f = h5py.File(addr+'testdata.h5', 'w')\n",
    "h5f.create_dataset('features', data=features)\n",
    "h5f.create_dataset('labels', data=labels)\n",
    "h5f.close()"
   ]
  },
  {
   "cell_type": "code",
   "execution_count": null,
   "metadata": {
    "collapsed": true
   },
   "outputs": [],
   "source": [
    "#load features hdf5\n",
    "import h5py\n",
    "h5f = h5py.File(addr+'testdata.h5','r')\n",
    "features = h5f['features'][:]\n",
    "labels = h5f['labels'][:]\n",
    "h5f.close()"
   ]
  },
  {
   "cell_type": "code",
   "execution_count": null,
   "metadata": {
    "collapsed": false
   },
   "outputs": [],
   "source": [
    "X_reduced = reduce_dim_test(pca, features, labels)"
   ]
  },
  {
   "cell_type": "code",
   "execution_count": null,
   "metadata": {
    "collapsed": false
   },
   "outputs": [],
   "source": [
    "pca.explained_variance_"
   ]
  },
  {
   "cell_type": "code",
   "execution_count": 10,
   "metadata": {
    "collapsed": true
   },
   "outputs": [],
   "source": [
    "#noises = np.array([.0001, .001, .01, .1, .3, .5, .7, 1, 2, 4])\n",
    "noises = np.array([.0001, .01, .1, .25, .5, .8, 1, 2, 4, 9])\n",
    "accs = np.zeros(noises.shape[0])\n",
    "privs = np.zeros(noises.shape[0])\n",
    "corrects = np.zeros(noises.shape[0])"
   ]
  },
  {
   "cell_type": "code",
   "execution_count": 16,
   "metadata": {
    "collapsed": false
   },
   "outputs": [
    {
     "name": "stdout",
     "output_type": "stream",
     "text": [
      "Accuracy of test is 0.935400\n",
      "Features are loaded\n",
      "Percentage of men is 0.789200\n",
      "extracted PCA from train data is fitted to test data\n",
      "min is 1.000000      max is 251.000000      mean is 26.422200      std is 75.014650      ratio of ranked one is 0.880200 \n",
      "Expected ek-privacy is 0.005284\n",
      "Reconstruction is done from PCA projections\n",
      "(500, 10, 4096)\n",
      "Accuracy of test on reconstructed features from PCA is 0.936000\n",
      "0.935999992847\n",
      "0.00528444\n",
      "0.8802\n",
      "min is 1.000000      max is 508.000000      mean is 31.874200      std is 76.179258      ratio of ranked one is 0.370200 \n",
      "Expected ek-privacy is 0.006375\n",
      "Reconstruction is done from PCA projections\n",
      "(500, 10, 4096)\n",
      "Accuracy of test on reconstructed features from PCA is 0.936000\n",
      "0.935999992609\n",
      "0.00637484\n",
      "0.3702\n",
      "min is 1.000000      max is 2001.000000      mean is 127.362200      std is 180.612581      ratio of ranked one is 0.048600 \n",
      "Expected ek-privacy is 0.025472\n",
      "Reconstruction is done from PCA projections\n",
      "(500, 10, 4096)\n",
      "Accuracy of test on reconstructed features from PCA is 0.936400\n",
      "0.936399993181\n",
      "0.02547244\n",
      "0.0486\n",
      "min is 1.000000      max is 2166.000000      mean is 254.894400      std is 310.105507      ratio of ranked one is 0.017800 \n",
      "Expected ek-privacy is 0.050979\n",
      "Reconstruction is done from PCA projections\n",
      "(500, 10, 4096)\n",
      "Accuracy of test on reconstructed features from PCA is 0.932400\n",
      "0.932399993539\n",
      "0.05097888\n",
      "0.0178\n",
      "min is 1.000000      max is 3649.000000      mean is 430.871800      std is 493.822908      ratio of ranked one is 0.007200 \n",
      "Expected ek-privacy is 0.086174\n",
      "Reconstruction is done from PCA projections\n",
      "(500, 10, 4096)\n",
      "Accuracy of test on reconstructed features from PCA is 0.927000\n",
      "0.926999993324\n",
      "0.08617436\n",
      "0.0072\n",
      "min is 1.000000      max is 3792.000000      mean is 576.967200      std is 624.932476      ratio of ranked one is 0.006800 \n",
      "Expected ek-privacy is 0.115393\n",
      "Reconstruction is done from PCA projections\n",
      "(500, 10, 4096)\n",
      "Accuracy of test on reconstructed features from PCA is 0.919400\n",
      "0.919399993062\n",
      "0.11539344\n",
      "0.0068\n",
      "min is 1.000000      max is 4073.000000      mean is 653.088400      std is 703.845031      ratio of ranked one is 0.004800 \n",
      "Expected ek-privacy is 0.130618\n",
      "Reconstruction is done from PCA projections\n",
      "(500, 10, 4096)\n",
      "Accuracy of test on reconstructed features from PCA is 0.910200\n",
      "0.910199993134\n",
      "0.13061768\n",
      "0.0048\n",
      "min is 1.000000      max is 4787.000000      mean is 927.718400      std is 908.441087      ratio of ranked one is 0.002200 \n",
      "Expected ek-privacy is 0.185544\n",
      "Reconstruction is done from PCA projections\n",
      "(500, 10, 4096)\n",
      "Accuracy of test on reconstructed features from PCA is 0.882600\n",
      "0.882599992156\n",
      "0.18554368\n",
      "0.0022\n",
      "min is 1.000000      max is 4939.000000      mean is 1255.210200      std is 1109.926159      ratio of ranked one is 0.001200 \n",
      "Expected ek-privacy is 0.251042\n",
      "Reconstruction is done from PCA projections\n",
      "(500, 10, 4096)\n",
      "Accuracy of test on reconstructed features from PCA is 0.827400\n",
      "0.827399994671\n",
      "0.25104204\n",
      "0.0012\n",
      "min is 1.000000      max is 4993.000000      mean is 1588.148400      std is 1255.193570      ratio of ranked one is 0.000400 \n",
      "Expected ek-privacy is 0.317630\n",
      "Reconstruction is done from PCA projections\n",
      "(500, 10, 4096)\n",
      "Accuracy of test on reconstructed features from PCA is 0.766600\n",
      "0.766599999368\n",
      "0.31762968\n",
      "0.0004\n",
      "[ 0.93599999  0.93599999  0.93639999  0.93239999  0.92699999  0.91939999\n",
      "  0.91019999  0.88259999  0.82739999  0.7666    ]\n",
      "[ 0.00528444  0.00637484  0.02547244  0.05097888  0.08617436  0.11539344\n",
      "  0.13061768  0.18554368  0.25104204  0.31762968]\n",
      "[  8.80200000e-01   3.70200000e-01   4.86000000e-02   1.78000000e-02\n",
      "   7.20000000e-03   6.80000000e-03   4.80000000e-03   2.20000000e-03\n",
      "   1.20000000e-03   4.00000000e-04]\n",
      "Accuracy of test is 0.931000\n",
      "Features are loaded\n",
      "Percentage of men is 0.780000\n",
      "extracted PCA from train data is fitted to test data\n",
      "min is 1.000000      max is 240.000000      mean is 24.198000      std is 69.888906      ratio of ranked one is 0.884400 \n",
      "Expected ek-privacy is 0.004840\n",
      "Reconstruction is done from PCA projections\n",
      "(500, 10, 4096)\n",
      "Accuracy of test on reconstructed features from PCA is 0.932400\n",
      "0.932399992943\n",
      "0.0048396\n",
      "0.8844\n",
      "min is 1.000000      max is 483.500000      mean is 30.034400      std is 71.058200      ratio of ranked one is 0.369800 \n",
      "Expected ek-privacy is 0.006007\n",
      "Reconstruction is done from PCA projections\n",
      "(500, 10, 4096)\n",
      "Accuracy of test on reconstructed features from PCA is 0.932000\n",
      "0.931999992609\n",
      "0.00600688\n",
      "0.3698\n",
      "min is 1.000000      max is 1778.000000      mean is 121.934600      std is 170.085121      ratio of ranked one is 0.048600 \n",
      "Expected ek-privacy is 0.024387\n",
      "Reconstruction is done from PCA projections\n",
      "(500, 10, 4096)\n",
      "Accuracy of test on reconstructed features from PCA is 0.928800\n",
      "0.928799992919\n",
      "0.02438692\n",
      "0.0486\n",
      "min is 1.000000      max is 2804.000000      mean is 252.064400      std is 314.043090      ratio of ranked one is 0.018800 \n",
      "Expected ek-privacy is 0.050413\n",
      "Reconstruction is done from PCA projections\n",
      "(500, 10, 4096)\n",
      "Accuracy of test on reconstructed features from PCA is 0.926400\n",
      "0.926399993181\n",
      "0.05041288\n",
      "0.0188\n",
      "min is 1.000000      max is 3502.000000      mean is 409.270200      std is 475.233513      ratio of ranked one is 0.008200 \n",
      "Expected ek-privacy is 0.081854\n",
      "Reconstruction is done from PCA projections\n",
      "(500, 10, 4096)\n",
      "Accuracy of test on reconstructed features from PCA is 0.923400\n",
      "0.923399992228\n",
      "0.08185404\n",
      "0.0082\n",
      "min is 1.000000      max is 4047.000000      mean is 545.419200      std is 603.443345      ratio of ranked one is 0.004400 \n",
      "Expected ek-privacy is 0.109084\n",
      "Reconstruction is done from PCA projections\n",
      "(500, 10, 4096)\n",
      "Accuracy of test on reconstructed features from PCA is 0.913600\n",
      "0.91359999299\n",
      "0.10908384\n",
      "0.0044\n",
      "min is 1.000000      max is 4107.000000      mean is 636.493000      std is 681.594088      ratio of ranked one is 0.002200 \n",
      "Expected ek-privacy is 0.127299\n",
      "Reconstruction is done from PCA projections\n",
      "(500, 10, 4096)\n",
      "Accuracy of test on reconstructed features from PCA is 0.903400\n",
      "0.903399992704\n",
      "0.1272986\n",
      "0.0022\n",
      "min is 1.000000      max is 4879.000000      mean is 895.830000      std is 879.297189      ratio of ranked one is 0.002000 \n",
      "Expected ek-privacy is 0.179166\n",
      "Reconstruction is done from PCA projections\n",
      "(500, 10, 4096)\n",
      "Accuracy of test on reconstructed features from PCA is 0.876800\n",
      "0.87679999274\n",
      "0.179166\n",
      "0.002\n",
      "min is 1.000000      max is 4962.000000      mean is 1228.590600      std is 1109.550166      ratio of ranked one is 0.001800 \n",
      "Expected ek-privacy is 0.245718\n",
      "Reconstruction is done from PCA projections\n",
      "(500, 10, 4096)\n",
      "Accuracy of test on reconstructed features from PCA is 0.832200\n",
      "0.832199995935\n",
      "0.24571812\n",
      "0.0018\n",
      "min is 1.000000      max is 4994.000000      mean is 1542.883200      std is 1251.598691      ratio of ranked one is 0.001000 \n",
      "Expected ek-privacy is 0.308577\n",
      "Reconstruction is done from PCA projections\n",
      "(500, 10, 4096)\n",
      "Accuracy of test on reconstructed features from PCA is 0.760800\n",
      "0.760799999297\n",
      "0.30857664\n",
      "0.001\n",
      "[ 1.86839999  1.86799999  1.86519999  1.85879999  1.85039999  1.83299999\n",
      "  1.81359999  1.75939998  1.65959999  1.5274    ]\n",
      "[ 0.01012404  0.01238172  0.04985936  0.10139176  0.1680284   0.22447728\n",
      "  0.25791628  0.36470968  0.49676016  0.62620632]\n",
      "[  1.76460000e+00   7.40000000e-01   9.72000000e-02   3.66000000e-02\n",
      "   1.54000000e-02   1.12000000e-02   7.00000000e-03   4.20000000e-03\n",
      "   3.00000000e-03   1.40000000e-03]\n"
     ]
    },
    {
     "name": "stderr",
     "output_type": "stream",
     "text": [
      "/usr/local/lib/python2.7/dist-packages/ipykernel/__main__.py:7: FutureWarning: comparison to `None` will result in an elementwise object comparison in the future.\n",
      "/usr/local/lib/python2.7/dist-packages/ipykernel/__main__.py:11: FutureWarning: comparison to `None` will result in an elementwise object comparison in the future.\n"
     ]
    }
   ],
   "source": [
    "repeat = 2\n",
    "nb = 500\n",
    "for cnt in range(repeat):\n",
    "    features, labels = load_all_middle_features(net, mid_layer, nb, True)\n",
    "    X_reduced = reduce_dim_test(pca, features, labels)\n",
    "    #noises = np.array([.0000000001, .0001, .001, .01, .1, 1, 5, 10, 20, 50, 100])\n",
    "    #noises = np.array([.05, .1, .5, 1, 2, 3, 6, 9, 12])\n",
    "    #noises = np.array([.0001, .01, .1, .3, .4, .5, .7, .85, 1, 3])\n",
    "    #noises = np.array([.0001, .001, .01, .1, .3, .5, .7, 1, 2, 4])\n",
    "\n",
    "    for i,n in enumerate(noises):\n",
    "        tempacc, temppriv, tempcorrect = test_network_pca(net, pca, \n",
    "                                             middle_layer_name=mid_layer, next_layer_name=next_layer, \n",
    "                                             features=features, labels=labels, X_reduced=X_reduced, \n",
    "                                             num_batch=nb, noise_var=n, num_pca=num_pca)\n",
    "        accs[i] = accs[i]+tempacc\n",
    "        privs[i] = privs[i]+temppriv\n",
    "        corrects[i] = corrects[i]+tempcorrect\n",
    "        print tempacc\n",
    "        print temppriv\n",
    "        print tempcorrect\n",
    "    print accs\n",
    "    print privs\n",
    "    print corrects\n",
    "accs = accs/repeat\n",
    "privs = privs/repeat\n",
    "corrects = corrects/repeat\n",
    "np.save(addr+'privacc/accs_test_rank', accs)\n",
    "np.save(addr+'privacc/privs_test_rank', privs)\n",
    "np.save(addr+'privacc/corrects_test_rank', corrects)\n",
    "np.save(addr+'privacc/noise', noises)"
   ]
  },
  {
   "cell_type": "code",
   "execution_count": null,
   "metadata": {
    "collapsed": false
   },
   "outputs": [],
   "source": [
    "np.save(addr+'privacc/accs_test_rank', accs)\n",
    "np.save(addr+'privacc/privs_test_rank', privs)\n",
    "np.save(addr+'privacc/corrects_test_rank', corrects)\n",
    "np.save(addr+'privacc/noise', noises)"
   ]
  },
  {
   "cell_type": "code",
   "execution_count": 17,
   "metadata": {
    "collapsed": false
   },
   "outputs": [
    {
     "name": "stdout",
     "output_type": "stream",
     "text": [
      "[  1.00000000e-04   1.00000000e-02   1.00000000e-01   2.50000000e-01\n",
      "   5.00000000e-01   8.00000000e-01   1.00000000e+00   2.00000000e+00\n",
      "   4.00000000e+00   9.00000000e+00]\n",
      "[ 0.93419999  0.93399999  0.93259999  0.92939999  0.92519999  0.91649999\n",
      "  0.90679999  0.87969999  0.8298      0.7637    ]\n",
      "[ 0.00506202  0.00619086  0.02492968  0.05069588  0.0840142   0.11223864\n",
      "  0.12895814  0.18235484  0.24838008  0.31310316]\n",
      "[  8.82300000e-01   3.70000000e-01   4.86000000e-02   1.83000000e-02\n",
      "   7.70000000e-03   5.60000000e-03   3.50000000e-03   2.10000000e-03\n",
      "   1.50000000e-03   7.00000000e-04]\n"
     ]
    }
   ],
   "source": [
    "print noises\n",
    "print accs\n",
    "print privs\n",
    "print corrects"
   ]
  },
  {
   "cell_type": "code",
   "execution_count": 19,
   "metadata": {
    "collapsed": false
   },
   "outputs": [
    {
     "data": {
      "image/png": "[encoded data removed]",
      "text/plain": [
       "<matplotlib.figure.Figure at 0x7f396fe40ad0>"
      ]
     },
     "metadata": {},
     "output_type": "display_data"
    }
   ],
   "source": [
    "#accs_simple = np.load(save_addr+'simple/accs_test_10.npy')\n",
    "#privs_simple = np.load(save_addr+'simple/privs_test_10.npy')\n",
    "\n",
    "#accs_med = np.load('accs_med.npy')\n",
    "#privs_med = np.load('privs_med.npy')\n",
    "\n",
    "#accs_large = np.load(save_addr+'siamese/accs_test_10.npy')\n",
    "#privs_large = np.load(save_addr+'siamese/privs_test_10.npy')\n",
    "\n",
    "#plt.plot(privs_simple, accs_simple, 'r--', label='simple')\n",
    "plt.plot(privs, accs, 'g', label='siamese')\n",
    "#plt.plot(privs_med/500, accs_med, 'b--', label='siamese_2')\n",
    "\n",
    "plt.legend()\n",
    "plt.ylabel('accuracy')\n",
    "plt.xlabel('privacy')\n",
    "plt.title('accuracy vs. privacy')\n",
    "plt.show()"
   ]
  },
  {
   "cell_type": "markdown",
   "metadata": {},
   "source": [
    "accuracy on LFW:\n",
    "\n",
    "    vgg siamese 4:   94.1\n",
    "    vgg siamese 2:   93.1\n",
    "    vgg fine tune:   94.1\n",
    "    vgg raw:         90.1             \n",
    "    gil siamese 4:\n",
    "    gil siamese 2:\n",
    "    gil fine tune:   87.0\n",
    "    gil raw:         29.0\n",
    "    mini raw:\n",
    "\n",
    "accuracy on Wiki:   \n",
    "\n",
    "    vgg siamese 4:   92.8\n",
    "    vgg siamese 2:   93.0\n",
    "    vgg fine tune:   93.4\n",
    "    vgg raw:         89.0\n",
    "    gil siamese 4:\n",
    "    gil siamese 2:\n",
    "    gil fine tune:   91.1\n",
    "    gil raw:         31.4    \n",
    "    mini raw:\n"
   ]
  },
  {
   "cell_type": "code",
   "execution_count": null,
   "metadata": {
    "collapsed": false
   },
   "outputs": [],
   "source": [
    "temp = np.zeros([2,len(noises)])\n",
    "temp[0,:] = privs*100\n",
    "temp[1,:] = accs*100\n",
    "\n",
    "temp = temp.T\n",
    "temp"
   ]
  },
  {
   "cell_type": "code",
   "execution_count": null,
   "metadata": {
    "collapsed": false
   },
   "outputs": [],
   "source": [
    "np.savetxt(addr+'privacc/siamese_gender_conv51_rank.txt', temp, delimiter=\"\\t\")"
   ]
  },
  {
   "cell_type": "code",
   "execution_count": null,
   "metadata": {
    "collapsed": false
   },
   "outputs": [],
   "source": [
    "a = np.load(addr+'privacc/accs_test_rank.npy')\n",
    "b = np.load(addr+'privacc/corrects_test_rank.npy')\n",
    "print a\n",
    "print b"
   ]
  },
  {
   "cell_type": "code",
   "execution_count": null,
   "metadata": {
    "collapsed": false
   },
   "outputs": [],
   "source": [
    "temp = np.zeros([2,len(a)])\n",
    "temp[0,:] = 1-b\n",
    "temp[1,:] = a\n",
    "\n",
    "temp = temp.T\n",
    "temp"
   ]
  },
  {
   "cell_type": "code",
   "execution_count": null,
   "metadata": {
    "collapsed": false
   },
   "outputs": [],
   "source": [
    "from keras.utils import np_utils\n",
    "from keras.models import Sequential\n",
    "from keras.layers import Dense\n",
    "from __future__ import print_function\n",
    "\n",
    "def autoenc(features, enc_dim):\n",
    "    model = Sequential()\n",
    "    model.add(Dense(enc_dim, activation='sigmoid', input_shape=(features.shape[1],)))\n",
    "    model.add(Dense(features.shape[1], activation='linear'))\n",
    "    model.compile(loss='mean_squared_error', optimizer='adadelta')\n",
    "    model.fit(features, features, batch_size=1, nb_epoch=3)\n",
    "    reconst_features = model.predict(features)\n",
    "    \n",
    "    model2 = Sequential()\n",
    "    model2.add(Dense(enc_dim, activation='sigmoid', input_shape=(features.shape[1],), weights=model.layers[0].get_weights()))\n",
    "    reduced_features = model2.predict(features)\n",
    "    \n",
    "    return reconst_features, reduced_features"
   ]
  },
  {
   "cell_type": "code",
   "execution_count": null,
   "metadata": {
    "collapsed": true
   },
   "outputs": [],
   "source": [
    "print accs_large\n",
    "print accs_simple"
   ]
  },
  {
   "cell_type": "code",
   "execution_count": null,
   "metadata": {
    "collapsed": false
   },
   "outputs": [],
   "source": [
    "print privs_large\n",
    "print privs_simple"
   ]
  },
  {
   "cell_type": "code",
   "execution_count": null,
   "metadata": {
    "collapsed": false
   },
   "outputs": [],
   "source": [
    "#newacc = np.zeros(14)\n",
    "#newpriv = np.zeros(14)\n",
    "\n",
    "#newacc[0:9] = accs[0:9]\n",
    "#newacc[9:11] = accs2[0:2]\n",
    "#newacc[11] = accs[9]\n",
    "#newacc[12:14] = accs2[2:4]\n",
    "\n",
    "#newpriv[0:9] = privs[0:9]\n",
    "#newpriv[9:11] = privs2[0:2]\n",
    "#newpriv[11] = privs[9]\n",
    "#newpriv[12:14] = privs2[2:4]\n",
    "\n",
    "#np.save(save_addr+'accs_all_test', newacc)\n",
    "#np.save(save_addr+'privs_all_test', newpriv)"
   ]
  },
  {
   "cell_type": "code",
   "execution_count": null,
   "metadata": {
    "collapsed": true
   },
   "outputs": [],
   "source": [
    "#Training Siamese network in caffe\n",
    "#solver = caffe.get_solver('gender_siamese_solver_pool5.prototxt')\n",
    "#solver.net.copy_from('../gender.caffemodel')\n",
    "#f, l = load_features(solver.net, 'pool5', 20)\n",
    "#plot_pca(f, l, 2)\n",
    "#solver.step(1)\n"
   ]
  },
  {
   "cell_type": "code",
   "execution_count": null,
   "metadata": {
    "collapsed": true
   },
   "outputs": [],
   "source": [
    "#educational\n",
    "np.reshape(out[middle_layer_name],(middle_layer_shape[0],-1)) #-1 means infer others automatically\n",
    "X_reduced[labels == i, 0] # logical indexing"
   ]
  },
  {
   "cell_type": "code",
   "execution_count": null,
   "metadata": {
    "collapsed": false
   },
   "outputs": [],
   "source": [
    "def test_network(net, middle_layer_name, next_layer_name, num_batch, num_pca, noise_var):\n",
    "    \n",
    "    # Loading features from pool5\n",
    "    features = []\n",
    "    labels = []\n",
    "    acc = 0\n",
    "    \n",
    "    middle_layer_shape = net.blobs[middle_layer_name].data.shape\n",
    "    for i in range(0, num_batch):\n",
    "        out = net.forward(blobs=[middle_layer_name,'label'])\n",
    "        features.append(copy.copy(np.reshape(out[middle_layer_name],(middle_layer_shape[0],-1) )))\n",
    "        labels.append(copy.copy(out['label']))\n",
    "        acc = acc + net.blobs['accuracy_test_top01'].data\n",
    "    acc = acc / num_batch\n",
    "    print('Accuracy of test is {:f}'.format(acc))\n",
    "    features = np.concatenate(features, axis=0)\n",
    "    labels = np.concatenate(labels, axis=0)\n",
    "    numdata = features.shape[0]\n",
    "    print('Features are loaded')\n",
    "    print('Percentage of men is {:f}'.format(np.sum(labels)/labels.shape[0]))\n",
    "    \n",
    "    # PCA\n",
    "    mean_feature = np.mean(features, axis=0)\n",
    "    normalized_features = features - mean_feature\n",
    "    pca = decomposition.PCA()\n",
    "    pca.n_components = num_pca\n",
    "    pca.fit(normalized_features)\n",
    "    print('Remained variance is:') \n",
    "    print(pca.explained_variance_ratio_) \n",
    "    V = pca.components_\n",
    "    print V.shape\n",
    "    X_reduced = pca.transform(normalized_features) #it was fit_transform before -> changed to transform\n",
    "    print('PCA is fitted')\n",
    "    plt.figure()\n",
    "    for c, i in zip(\"rg\", [0, 1]):\n",
    "        plt.scatter(X_reduced[labels == i, 0], X_reduced[labels == i, 1], c=c)\n",
    "    plt.title('PCA of features')\n",
    "    \n",
    "    # add noise to PCA\n",
    "    noise = np.random.multivariate_normal(np.zeros([num_pca,]), noise_var*np.eye(num_pca), numdata)\n",
    "    X_reduced_noisy = X_reduced + noise\n",
    "    \n",
    "    # Compute Privacy Measure\n",
    "    # kde = KernelDensity(kernel='gaussian', bandwidth=1).fit(X_reduced_noisy)\n",
    "    d = np.array([X_reduced,]*numdata) - np.transpose(np.array([X_reduced_noisy,]*numdata),(1,0,2)) #order?\n",
    "    e = multivariate_normal.pdf(d,np.zeros([num_pca,]), noise_var*np.eye(num_pca))\n",
    "    r = e/np.max(e,0)\n",
    "    print(\"here\")\n",
    "    m = np.sum(r>.95,0)\n",
    "    ranks = 1 + numdata - rankdata(r,0)\n",
    "    trueranks = np.diag(ranks)\n",
    "    res = np.maximum(m,trueranks)\n",
    "    priv = np.mean(res)\n",
    "    print('Expected ek-privacy is {:f}'.format(priv))\n",
    "    \n",
    "    \n",
    "    # Reconstruct PCA\n",
    "    reconstructed = pca.inverse_transform(X_reduced_noisy) \n",
    "    recovered = reconstructed + mean_feature    \n",
    "    reconstructed_pool5_dataset = np.reshape(recovered, (num_batch,)+middle_layer_shape )\n",
    "    reconstructed_labels = np.reshape(labels, (num_batch,)+(middle_layer_shape[0],) )\n",
    "    print('Reconstruction is done from PCA projections')\n",
    "    \n",
    "    # Computing New Accuracy\n",
    "    newacc = 0\n",
    "    for i in range(0, num_batch):\n",
    "        net.blobs[middle_layer_name].data[...] = reconstructed_pool5_dataset[i,:,:,:,:]\n",
    "        net.blobs['label'].data[...] = reconstructed_labels[i,:]\n",
    "        net.forward(start=next_layer_name, end='accuracy_test_top01') # it was fc6 for pool5\n",
    "        newacc = newacc + net.blobs['accuracy_test_top01'].data\n",
    "    newacc = newacc / num_batch\n",
    "    print('Accuracy of test on reconstructed features from PCA is {:f}'.format(newacc))\n",
    "\n",
    "    return newacc, priv"
   ]
  },
  {
   "cell_type": "code",
   "execution_count": null,
   "metadata": {
    "collapsed": false
   },
   "outputs": [],
   "source": [
    "features, labels = load_features(net3, \"pool5\", 100)"
   ]
  },
  {
   "cell_type": "code",
   "execution_count": null,
   "metadata": {
    "collapsed": false
   },
   "outputs": [],
   "source": [
    "rec_f, red_f = autoenc(features, 2)"
   ]
  },
  {
   "cell_type": "code",
   "execution_count": null,
   "metadata": {
    "collapsed": true
   },
   "outputs": [],
   "source": []
  },
  {
   "cell_type": "code",
   "execution_count": null,
   "metadata": {
    "collapsed": false
   },
   "outputs": [],
   "source": [
    "middle_layer_shape = net3.blobs['pool5'].data.shape\n",
    "num_batch = 100\n",
    "reconstructed_pool5_dataset = np.reshape(rec_f, (num_batch,)+middle_layer_shape )\n",
    "reconstructed_labels = np.reshape(labels, (num_batch,)+(middle_layer_shape[0],) )"
   ]
  },
  {
   "cell_type": "code",
   "execution_count": null,
   "metadata": {
    "collapsed": false
   },
   "outputs": [],
   "source": [
    "np.save('reconstpool',reconstructed_pool5_dataset)\n",
    "np.save('reconstlabel',reconstructed_labels)"
   ]
  },
  {
   "cell_type": "code",
   "execution_count": null,
   "metadata": {
    "collapsed": true
   },
   "outputs": [],
   "source": [
    "reconstructed_pool5_dataset = np.load('reconstpool.npy')\n",
    "reconstructed_labels = np.load('reconstlabel.npy')"
   ]
  },
  {
   "cell_type": "code",
   "execution_count": null,
   "metadata": {
    "collapsed": true
   },
   "outputs": [],
   "source": [
    "print(reconstructed_labels)"
   ]
  },
  {
   "cell_type": "code",
   "execution_count": null,
   "metadata": {
    "collapsed": true
   },
   "outputs": [],
   "source": [
    "newacc = 0\n",
    "for i in range(0, 100):\n",
    "    net3.blobs['pool5'].data[...] = reconstructed_pool5_dataset[i,:,:,:,:]\n",
    "    net3.blobs['label'].data[...] = reconstructed_labels[i,:]\n",
    "    net3.forward(start='fc6', end='accuracy_test_top01') # it was fc6 for pool5\n",
    "    newacc = newacc + net3.blobs['accuracy_test_top01'].data\n",
    "print(newacc)\n",
    "print('Accuracy of test on reconstructed features from PCA is {:f}'.format(newacc))"
   ]
  },
  {
   "cell_type": "code",
   "execution_count": null,
   "metadata": {
    "collapsed": false
   },
   "outputs": [],
   "source": [
    "#compute relative error\n",
    "#from numpy import linalg\n",
    "#fn = linalg.norm(features,axis=1)\n",
    "#en = linalg.norm(features-predicted,axis=1)\n",
    "#np.mean(en/fn)"
   ]
  },
  {
   "cell_type": "code",
   "execution_count": null,
   "metadata": {
    "collapsed": true
   },
   "outputs": [],
   "source": []
  },
  {
   "cell_type": "code",
   "execution_count": null,
   "metadata": {
    "collapsed": true
   },
   "outputs": [],
   "source": [
    "def test_network(net, middle_layer_name, next_layer_name, num_batch, enc_dim, noise_var ):\n",
    "    \n",
    "    # Loading features from pool5\n",
    "    features = []\n",
    "    labels = []\n",
    "    acc = 0\n",
    "    \n",
    "    #load features\n",
    "    features, labels = load_features(net, middle_layer_name, num_batch)\n",
    "\n",
    "    #dim reduction with ae\n",
    "    reconst_f, reduced_f = autoenc(features, enc_dim)\n",
    "    \n",
    "    # add noise to PCA\n",
    "    #noise = np.random.multivariate_normal(np.zeros([enc_dim,]), noise_var*np.eye(enc_dim), numdata)\n",
    "    #X_reduced_noisy = X_reduced + noise\n",
    "        \n",
    "    caffe.set_mode_gpu()\n",
    "    caffe.set_device(1)\n",
    "    # Compute Privacy Measure\n",
    "    # kde = KernelDensity(kernel='gaussian', bandwidth=1).fit(X_reduced_noisy)\n",
    "    #d = np.array([X_reduced,]*numdata) - np.transpose(np.array([X_reduced_noisy,]*numdata),(1,0,2)) #order?\n",
    "    #e = multivariate_normal.pdf(d,np.zeros([enc_dim,]), noise_var*np.eye(enc_dim))\n",
    "    #r = e/np.max(e,0)\n",
    "    #print(\"here\")\n",
    "    #m = np.sum(r>.95,0)\n",
    "    #ranks = 1 + numdata - rankdata(r,0)\n",
    "    #trueranks = np.diag(ranks)\n",
    "    #res = np.maximum(m,trueranks)\n",
    "    #priv = np.mean(res)\n",
    "    #print('Expected ek-privacy is {:f}'.format(priv))\n",
    "    \n",
    "    \n",
    "    # Reconstruct back\n",
    "    #reconstructed = pca.inverse_transform(X_reduced_noisy) \n",
    "    #recovered = reconstructed + mean_feature    \n",
    "    reconstructed_pool5_dataset = np.reshape(reconst_f, (num_batch,)+middle_layer_shape )\n",
    "    reconstructed_labels = np.reshape(labels, (num_batch,)+(middle_layer_shape[0],) )\n",
    "    \n",
    "    # Computing New Accuracy\n",
    "    newacc = 0\n",
    "    for i in range(0, num_batch):\n",
    "        net.blobs[middle_layer_name].data[...] = reconstructed_pool5_dataset[i,:,:,:,:]\n",
    "        net.blobs['label'].data[...] = reconstructed_labels[i,:]\n",
    "        net.forward(start=next_layer_name, end='accuracy_test_top01') # it was fc6 for pool5\n",
    "        newacc = newacc + net.blobs['accuracy_test_top01'].data\n",
    "    newacc = newacc / num_batch\n",
    "    print('Accuracy of test on reconstructed features from PCA is {:f}'.format(newacc))\n",
    "\n"
   ]
  },
  {
   "cell_type": "code",
   "execution_count": null,
   "metadata": {
    "collapsed": false
   },
   "outputs": [],
   "source": [
    "test_network(net1, middle_layer_name='pool5', next_layer_name='fc6', num_batch=500, enc_dim=2, noise_var=0)"
   ]
  },
  {
   "cell_type": "code",
   "execution_count": null,
   "metadata": {
    "collapsed": false
   },
   "outputs": [],
   "source": []
  },
  {
   "cell_type": "code",
   "execution_count": null,
   "metadata": {
    "collapsed": false
   },
   "outputs": [],
   "source": [
    "plt.plot([1,2,3], label=\"test1\")\n",
    "plt.plot([3,2,1], label=\"test2\")\n",
    "# Place a legend to the right of this smaller subplot.\n",
    "plt.legend(bbox_to_anchor=(1.05, 1), loc=2, borderaxespad=0.)\n",
    "\n",
    "plt.show()"
   ]
  },
  {
   "cell_type": "code",
   "execution_count": null,
   "metadata": {
    "collapsed": false
   },
   "outputs": [],
   "source": [
    "features, labels = test_network(net, middle_layer_name='pool5', next_layer_name='fc6', num_batch=50, num_pca=2, noise_var=10)"
   ]
  },
  {
   "cell_type": "code",
   "execution_count": null,
   "metadata": {
    "collapsed": false
   },
   "outputs": [],
   "source": [
    "import numpy as np\n",
    "def saveEigenVectors(middle_layer, next_layer, num):\n",
    "#     pool1 \n",
    "#     pool2\n",
    "#     pool3 100\n",
    "#     pool4 3\n",
    "#     pool5 2\n",
    "    address = '/home/ocr/caffe/examples/gender_classification/SiamesePrivacy/'+middle_layer+'_eigen.txt'\n",
    "    features, labels, V = test_network(net, middle_layer_name= middle_layer, next_layer_name=next_layer, num_batch=50, num_pca=num, noise_var=0)\n",
    "    np.savetxt(address, V)\n",
    "#     file = open(address, 'wb+')\n",
    "#     for i in range(0, len(V)):\n",
    "#         for j in range(0, len(V[0])): \n",
    "            \n",
    "#             file.write(str(i)+','+str(j)+','+str(V[i][j]) + '\\n')\n",
    "            \n",
    "#     file.close()\n",
    "    \n",
    "saveEigenVectors('pool3', 'conv4_1', 100)    "
   ]
  },
  {
   "cell_type": "code",
   "execution_count": null,
   "metadata": {
    "collapsed": false
   },
   "outputs": [],
   "source": [
    "features, labels = test_network(net, middle_layer_name='pool5', next_layer_name='fc6', num_batch=50, num_pca=2, noise_var=0)"
   ]
  },
  {
   "cell_type": "code",
   "execution_count": null,
   "metadata": {
    "collapsed": false
   },
   "outputs": [],
   "source": [
    "# SCRATCH\n",
    "a = np.array([[1,2,3],[4,5,6]])\n",
    "b = np.ndarray.flatten(a)\n",
    "print b\n",
    "c = a.shape\n",
    "print c\n",
    "d = np.reshape(b,c)\n",
    "print d\n",
    "print net.blobs['conv1_1'].data.shape\n",
    "e = (1,)+(2,)\n",
    "print e[1]\n",
    "print np.zeros([4,])\n",
    "print 3*np.eye(4)"
   ]
  },
  {
   "cell_type": "code",
   "execution_count": null,
   "metadata": {
    "collapsed": true
   },
   "outputs": [],
   "source": [
    "net2 = caffe.Net('gender_siamese_train_pool5.prototxt', '._iter_8495.caffemodel', caffe.TEST)"
   ]
  },
  {
   "cell_type": "code",
   "execution_count": null,
   "metadata": {
    "collapsed": true
   },
   "outputs": [],
   "source": [
    "def test2(features):\n",
    "    \n",
    "    scaler = preprocessing.StandardScaler(with_std=False).fit(features)\n",
    "    f = scaler.transform(features)\n",
    "    \n",
    "    \n",
    "    pca = decomposition.PCA()\n",
    "    pca.n_components = 5\n",
    "    pca.fit(f)\n",
    "    print('Remained variance is:') \n",
    "    print(pca.explained_variance_ratio_) \n",
    "    \n",
    "    X_reduced = pca.fit_transform(f)\n",
    "    print('PCA is fitted')\n",
    "    \n",
    "    plt.figure()\n",
    "    for c, i in zip(\"rg\", [0, 1]):\n",
    "        plt.scatter(X_reduced[labels == i, 0], X_reduced[labels == i, 1], c=c)\n",
    "    plt.title('PCA of features')\n",
    "    \n",
    "    reconstructed=pca.inverse_transform(X_reduced)\n",
    "    reconstructed_pool5_dataset = np.reshape(reconstructed, (100,10,512,7,7))\n",
    "    print('reconstruction is done from PCA projections')\n",
    "    \n",
    "    newacc = 0\n",
    "    for i in range(0,100):\n",
    "        net.blobs['pool5'].data[...] = reconstructed_pool5_dataset[i,:,:,:,:]\n",
    "        net.forward(start='fc6', end='accuracy_test_top01')\n",
    "        newacc = newacc + net.blobs['accuracy_test_top01'].data\n",
    "    newacc = newacc / 100\n",
    "    print('Accuracy of test on reconstructed features from PCA is {:f}'.format(newacc))\n"
   ]
  },
  {
   "cell_type": "code",
   "execution_count": null,
   "metadata": {
    "collapsed": false
   },
   "outputs": [],
   "source": [
    "features = []\n",
    "labels = []\n",
    "acc = 0\n",
    "for i in range(0,100):\n",
    "    out = net.forward(blobs=['pool5flat','label'])\n",
    "    features.append(copy.copy(out['pool5flat']))\n",
    "    labels.append(copy.copy(out['label']))\n",
    "    acc = acc + net.blobs['accuracy_test_top01'].data\n",
    "\n",
    "acc = acc/100\n",
    "print acc\n",
    "features = np.concatenate(features, axis=0)\n",
    "labels = np.concatenate(labels, axis=0)"
   ]
  },
  {
   "cell_type": "code",
   "execution_count": null,
   "metadata": {
    "collapsed": false
   },
   "outputs": [],
   "source": [
    "pca = decomposition.PCA()\n",
    "pca.n_components = 5\n",
    "pca.fit(features)"
   ]
  },
  {
   "cell_type": "code",
   "execution_count": null,
   "metadata": {
    "collapsed": false
   },
   "outputs": [],
   "source": [
    "print(pca.explained_variance_ratio_) "
   ]
  },
  {
   "cell_type": "code",
   "execution_count": null,
   "metadata": {
    "collapsed": false,
    "scrolled": false
   },
   "outputs": [],
   "source": [
    "X_reduced = pca.transform(features)"
   ]
  },
  {
   "cell_type": "code",
   "execution_count": null,
   "metadata": {
    "collapsed": false
   },
   "outputs": [],
   "source": [
    "plt.figure()\n",
    "for c, i in zip(\"rg\", [0, 1]):\n",
    "    plt.scatter(X_reduced[labels == i, 0], X_reduced[labels == i, 1], c=c)\n",
    "plt.title('PCA of features')"
   ]
  },
  {
   "cell_type": "code",
   "execution_count": null,
   "metadata": {
    "collapsed": false
   },
   "outputs": [],
   "source": [
    "#reconstructed = features \n",
    "reconstructed=pca.inverse_transform(X_reduced)"
   ]
  },
  {
   "cell_type": "code",
   "execution_count": null,
   "metadata": {
    "collapsed": false
   },
   "outputs": [],
   "source": [
    "reconstructed_pool5_dataset = np.reshape(reconstructed, (100,10,512,7,7))"
   ]
  },
  {
   "cell_type": "code",
   "execution_count": null,
   "metadata": {
    "collapsed": false
   },
   "outputs": [],
   "source": [
    "newacc = 0\n",
    "for i in range(0,100):\n",
    "    net.blobs['pool5'].data[...] = reconstructed_pool5_dataset[i,:,:,:,:]\n",
    "    net.forward(start='fc6', end='accuracy_test_top01')\n",
    "    newacc = newacc + net.blobs['accuracy_test_top01'].data\n",
    "print newacc / 100"
   ]
  },
  {
   "cell_type": "code",
   "execution_count": null,
   "metadata": {
    "collapsed": true
   },
   "outputs": [],
   "source": [
    "def ForwardFrom(StartLayer, net, FeatureStartLayer):\n",
    "    net.blobs[StartLayer].data[...] = FeatureStartLayer\n",
    "    out=net.forward(start=StartLayer)\n",
    "    print net.blobs[]\n",
    "    return net.blobs['accuracy_test_top01'].data"
   ]
  },
  {
   "cell_type": "code",
   "execution_count": null,
   "metadata": {
    "collapsed": false
   },
   "outputs": [],
   "source": [
    "Gender=ForwardFrom('pool5', net, reconstructed_pool5_dataset[2,:,:,:,:])\n",
    "Gender"
   ]
  },
  {
   "cell_type": "code",
   "execution_count": null,
   "metadata": {
    "collapsed": false
   },
   "outputs": [],
   "source": [
    "features.shape[0]"
   ]
  },
  {
   "cell_type": "code",
   "execution_count": null,
   "metadata": {
    "collapsed": false
   },
   "outputs": [],
   "source": [
    "reconstructed_pool5_dataset[43,:,:,:,:]"
   ]
  },
  {
   "cell_type": "code",
   "execution_count": null,
   "metadata": {
    "collapsed": false
   },
   "outputs": [],
   "source": [
    "Gender=ForwardFrom('pool5', 'prob', net, reconstructed_pool5_dataset[5,:,:,:,:])\n",
    "print Gender\n",
    "print reconstructed_label_dataset[5,:]"
   ]
  },
  {
   "cell_type": "code",
   "execution_count": null,
   "metadata": {
    "collapsed": false
   },
   "outputs": [],
   "source": [
    "top_k = net.blobs['prob'].data[0].flatten().argsort()"
   ]
  },
  {
   "cell_type": "code",
   "execution_count": null,
   "metadata": {
    "collapsed": false
   },
   "outputs": [],
   "source": [
    "labels[9]"
   ]
  },
  {
   "cell_type": "code",
   "execution_count": null,
   "metadata": {
    "collapsed": false
   },
   "outputs": [],
   "source": [
    "print labels[Gender]"
   ]
  },
  {
   "cell_type": "code",
   "execution_count": null,
   "metadata": {
    "collapsed": false
   },
   "outputs": [],
   "source": [
    "labels[1:11]"
   ]
  },
  {
   "cell_type": "code",
   "execution_count": null,
   "metadata": {
    "collapsed": false
   },
   "outputs": [],
   "source": [
    "reconstructed[1,:].shape"
   ]
  },
  {
   "cell_type": "code",
   "execution_count": null,
   "metadata": {
    "collapsed": false
   },
   "outputs": [],
   "source": [
    "features"
   ]
  },
  {
   "cell_type": "code",
   "execution_count": null,
   "metadata": {
    "collapsed": false
   },
   "outputs": [],
   "source": [
    "features[:,2]"
   ]
  },
  {
   "cell_type": "code",
   "execution_count": null,
   "metadata": {
    "collapsed": false
   },
   "outputs": [],
   "source": [
    "from sklearn.cluster import KMeans\n",
    "km = KMeans(n_clusters=2, n_jobs=-1)\n",
    "km.fit(X_reduced[:,0:2])\n",
    "km.predict(X_reduced[:,0:2])\n",
    "centers = km.cluster_centers_"
   ]
  },
  {
   "cell_type": "code",
   "execution_count": null,
   "metadata": {
    "collapsed": false
   },
   "outputs": [],
   "source": [
    "plt.plot(centers[:,0],centers[:,1],'.')"
   ]
  },
  {
   "cell_type": "code",
   "execution_count": null,
   "metadata": {
    "collapsed": false
   },
   "outputs": [],
   "source": [
    "from mpl_toolkits.mplot3d import Axes3D\n",
    "plt.figure()\n",
    "for c, i in zip(\"rg\", [0, 1]):\n",
    "    Axes3D.scatter(X_reduced[labels == i, 0], X_reduced[labels == i, 1], X_reduced[labels == i, 2])"
   ]
  },
  {
   "cell_type": "code",
   "execution_count": null,
   "metadata": {
    "collapsed": false
   },
   "outputs": [],
   "source": [
    "#net.inputs[0] = images\n",
    "net.blobs['data'].data = images"
   ]
  },
  {
   "cell_type": "code",
   "execution_count": null,
   "metadata": {
    "collapsed": false
   },
   "outputs": [],
   "source": [
    "net.params['conv1_2'][0].data"
   ]
  },
  {
   "cell_type": "code",
   "execution_count": null,
   "metadata": {
    "collapsed": true
   },
   "outputs": [],
   "source": [
    "# creating net for testing (load layers for TEST phase)\n",
    "#net = caffe.Net('gender_siamese_test.prototxt','._iter_7305.caffemodel', caffe.TEST)"
   ]
  },
  {
   "cell_type": "code",
   "execution_count": null,
   "metadata": {
    "collapsed": false
   },
   "outputs": [],
   "source": [
    "# reading the data stored in a blob (could be input or output of a layer)\n",
    "data = net.blobs['data'].data\n",
    "fc7_activations = net.blobs['fc7'].data"
   ]
  },
  {
   "cell_type": "code",
   "execution_count": null,
   "metadata": {
    "collapsed": false
   },
   "outputs": [],
   "source": [
    "# setting data for a blob (could be the input of a net)\n",
    "#myimage = np.array(Image.open('../DataSet/wiki_crop/wiki_crop/00/10049200_1891-09-16_1958.jpg'))\n",
    "#net.blobs['data'].data[...] = myimage"
   ]
  },
  {
   "cell_type": "code",
   "execution_count": null,
   "metadata": {
    "collapsed": false
   },
   "outputs": [],
   "source": [
    "# reading weights by using net.params\n",
    "nice_edge_detectors = net.params['conv1_1']\n",
    "higher_level_filter = net.params['fc7']"
   ]
  },
  {
   "cell_type": "code",
   "execution_count": null,
   "metadata": {
    "collapsed": false
   },
   "outputs": [],
   "source": [
    "from google.protobuf import text_format\n",
    "from caffe.draw import get_pydot_graph\n",
    "from caffe.proto import caffe_pb2\n",
    "from IPython.display import display, Image \n",
    "\n",
    "_net = caffe_pb2.NetParameter()\n",
    "f = open(\"gender_siamese_train_2.prototxt\")\n",
    "text_format.Merge(f.read(), _net)\n",
    "display(Image(get_pydot_graph(_net,\"TB\").create_png()))"
   ]
  },
  {
   "cell_type": "code",
   "execution_count": null,
   "metadata": {
    "collapsed": true
   },
   "outputs": [],
   "source": [
    "# not works\n",
    "# http://research.beenfrog.com/code/2015/03/28/read-leveldb-lmdb-for-caffe-with-python.html\n",
    "def get_data_for_case_from_lmdb(lmdb_name, id):\n",
    "    lmdb_env = lmdb.open(lmdb_name, readonly=True)\n",
    "    lmdb_txn = lmdb_env.begin()\n",
    "\n",
    "    raw_datum = lmdb_txn.get(id)\n",
    "    datum = caffe.proto.caffe_pb2.Datum()\n",
    "    datum.ParseFromString(raw_datum)\n",
    "\n",
    "    feature = caffe.io.datum_to_array(datum)\n",
    "    label = datum.label\n",
    "\n",
    "    return (label, feature)"
   ]
  },
  {
   "cell_type": "code",
   "execution_count": null,
   "metadata": {
    "collapsed": true
   },
   "outputs": [],
   "source": [
    "# not works\n",
    "def read_lmdb(lmdb_file):\n",
    "    cursor = lmdb.open(lmdb_file, readonly=True).begin().cursor()\n",
    "    datum = caffe.proto.caffe_pb2.Datum()\n",
    "    for _, value in cursor:\n",
    "        datum.ParseFromString(value)\n",
    "        s = StringIO()\n",
    "        s.write(datum.data)\n",
    "        s.seek(0)\n",
    "\n",
    "        yield np.array(PIL.Image.open(s)), datum.label"
   ]
  },
  {
   "cell_type": "code",
   "execution_count": null,
   "metadata": {
    "collapsed": false
   },
   "outputs": [],
   "source": [
    "# http://deepdish.io/2015/04/28/creating-lmdb-in-python/\n",
    "def load_data_into_lmdb(lmdb_name, features, labels=None):\n",
    "    env = lmdb.open(lmdb_name, map_size=features.nbytes*2)\n",
    "    \n",
    "    features = features[:,:,None,None]\n",
    "    for i in range(features.shape[0]):\n",
    "        datum = caffe.proto.caffe_pb2.Datum()\n",
    "        \n",
    "        datum.channels = features.shape[1]\n",
    "        datum.height = 1\n",
    "        datum.width = 1\n",
    "        \n",
    "        if features.dtype == np.int:\n",
    "            datum.data = features[i].tostring()\n",
    "        if features.dtype == np.float: \n",
    "            datum.float_data.extend(features[i].flat)\n",
    "        else:\n",
    "            raise Exception(\"features.dtype unknown.\")\n",
    "        \n",
    "        if labels is not None:\n",
    "            datum.label = int(labels[i])\n",
    "        \n",
    "        str_id = '{:08}'.format(i)\n",
    "        with env.begin(write=True) as txn:\n",
    "            txn.put(str_id, datum.SerializeToString())\n",
    "            \n",
    "load_data_into_lmdb(\"pool5_lmdb\", features.astype(float), labels)\n",
    "#load_data_into_lmdb(\"/home/ubuntu/data/test_data_lmdb\", features_testing, labels_testing)"
   ]
  },
  {
   "cell_type": "code",
   "execution_count": null,
   "metadata": {
    "collapsed": true
   },
   "outputs": [],
   "source": [
    "# reading lmdb file -> correct\n",
    "for key, value in lmdb_cursor:\n",
    "    print value\n",
    "    datum.ParseFromString(value)\n",
    "\n",
    "    label = datum.label\n",
    "    data = caffe.io.datum_to_array(datum)\n",
    "    im = data.astype(np.uint8)\n",
    "    im = np.transpose(im, (2, 1, 0)) # original (dim, col, row)\n",
    "    print \"label \", label\n",
    "\n",
    "    plt.imshow(im)\n",
    "    plt.show()\n"
   ]
  },
  {
   "cell_type": "code",
   "execution_count": null,
   "metadata": {
    "collapsed": true
   },
   "outputs": [],
   "source": [
    "# need for the below section\n",
    "def take(n, iterable):\n",
    "    \"Return first n items of the iterable as a list\"\n",
    "    return list(islice(iterable, n))"
   ]
  },
  {
   "cell_type": "code",
   "execution_count": null,
   "metadata": {
    "collapsed": false
   },
   "outputs": [],
   "source": [
    "# reading lmdb file -> correct -> no need to use this now\n",
    "from itertools import islice\n",
    "lmdb_file = \"../DataSet/wiki_crop/wiki_crop/test2_lmdb\"\n",
    "lmdb_env = lmdb.open(lmdb_file)\n",
    "lmdb_txn = lmdb_env.begin()\n",
    "lmdb_cursor = lmdb_txn.cursor()\n",
    "datum = caffe_pb2.Datum()\n",
    "n=10\n",
    "images = [None]*n\n",
    "labels = [None]*n\n",
    "n_item = take(n, lmdb_cursor)\n",
    "for i in range(0,n): \n",
    "    datum.ParseFromString(n_item[i][1])\n",
    "    labels[i] = datum.label\n",
    "    print(n_item[i][0])\n",
    "    im = caffe.io.datum_to_array(datum).astype(np.uint8)\n",
    "    im = np.transpose(im, (2, 1, 0)) \n",
    "    im = im[16:240,16:240,:]\n",
    "    images[i] = im\n",
    "    \n",
    "    plt.imshow(images[i])\n",
    "    plt.show()\n",
    "images = np.asarray(images)\n",
    "#images.shape"
   ]
  },
  {
   "cell_type": "code",
   "execution_count": null,
   "metadata": {
    "collapsed": true
   },
   "outputs": [],
   "source": [
    "def mycrop(im, new_width, new_height):\n",
    "    width, height = im.size   \n",
    "    left = (width - new_width)/2\n",
    "    top = (height - new_height)/2\n",
    "    right = (width + new_width)/2\n",
    "    bottom = (height + new_height)/2\n",
    "    im.crop((left, top, right, bottom))\n",
    "    return im"
   ]
  },
  {
   "cell_type": "code",
   "execution_count": null,
   "metadata": {
    "collapsed": false
   },
   "outputs": [],
   "source": [
    "from scipy.stats import norm\n",
    "from scipy.stats.mstats import rankdata\n",
    "a = np.array([[1,2,3,4,5,6]])\n",
    "var = 1\n",
    "n = np.random.normal(0,var,6)\n",
    "b = a + n\n",
    "d = np.tile(b,(6,1)) - np.tile(np.transpose(a),(1,6))\n",
    "e = norm.pdf(d,loc=0,scale=var)\n",
    "np.max(e,0)\n",
    "r = e/np.max(e,0)\n",
    "print r>0.5\n",
    "m = np.sum(r>.9,0)\n",
    "ranks = 7 - rankdata(r,0)\n",
    "trueranks = np.diag(ranks)\n",
    "res = np.maximum(m,trueranks)\n",
    "print np.mean(res)"
   ]
  },
  {
   "cell_type": "code",
   "execution_count": null,
   "metadata": {
    "collapsed": false
   },
   "outputs": [],
   "source": [
    "a = np.array([[1,2],[3,4],[5,6],[7,8],[9,10]])\n",
    "print a.shape\n",
    "a"
   ]
  },
  {
   "cell_type": "code",
   "execution_count": null,
   "metadata": {
    "collapsed": false
   },
   "outputs": [],
   "source": [
    "b = np.array([a,]*5)\n",
    "print b.shape\n",
    "print b\n",
    "print np.transpose(b,(1,0,2))"
   ]
  },
  {
   "cell_type": "code",
   "execution_count": null,
   "metadata": {
    "collapsed": false
   },
   "outputs": [],
   "source": [
    "print a.T\n",
    "c = np.array([a.T,]*5)\n",
    "np.reshape(c,(5,5,2))"
   ]
  },
  {
   "cell_type": "code",
   "execution_count": null,
   "metadata": {
    "collapsed": false
   },
   "outputs": [],
   "source": [
    "a = np.zeros(3)\n",
    "a[2]"
   ]
  },
  {
   "cell_type": "code",
   "execution_count": null,
   "metadata": {
    "collapsed": false
   },
   "outputs": [],
   "source": [
    "b"
   ]
  },
  {
   "cell_type": "code",
   "execution_count": null,
   "metadata": {
    "collapsed": false
   },
   "outputs": [],
   "source": [
    "a = np.array([[1,2],[3,4],[5,6]])\n",
    "b = np.array([[3,4],[1.5,3],[5.1,6.1]])\n",
    "print a\n",
    "print b"
   ]
  },
  {
   "cell_type": "code",
   "execution_count": null,
   "metadata": {
    "collapsed": true
   },
   "outputs": [],
   "source": [
    "np.array([a,]*3)"
   ]
  },
  {
   "cell_type": "code",
   "execution_count": null,
   "metadata": {
    "collapsed": true
   },
   "outputs": [],
   "source": [
    "np.transpose(np.array([b,]*3),(1,0,2))"
   ]
  },
  {
   "cell_type": "code",
   "execution_count": null,
   "metadata": {
    "collapsed": false
   },
   "outputs": [],
   "source": [
    "c = (np.array([a,]*3) - np.transpose(np.array([b,]*3),(1,0,2)))\n",
    "print c\n",
    "print c.shape"
   ]
  },
  {
   "cell_type": "code",
   "execution_count": null,
   "metadata": {
    "collapsed": false
   },
   "outputs": [],
   "source": [
    "d = multivariate_normal.pdf(c,np.zeros([2,]), 1*np.eye(2))\n",
    "print d\n",
    "e = d.T\n",
    "print e"
   ]
  },
  {
   "cell_type": "code",
   "execution_count": null,
   "metadata": {
    "collapsed": false
   },
   "outputs": [],
   "source": [
    "multivariate_normal.pdf([-4.1,-4.1],np.zeros([2,]), 1*np.eye(2))"
   ]
  },
  {
   "cell_type": "code",
   "execution_count": null,
   "metadata": {
    "collapsed": false
   },
   "outputs": [],
   "source": [
    "import matplotlib.mlab\n",
    "\n",
    "data=np.array(\n",
    "    [(5,np.array([1,2])),\n",
    "     (3,np.array([1,3])),\n",
    "     (3,np.array([1,4])),\n",
    "     (5,np.array([1,5])),\n",
    "     (1,np.array([1,6]))],\n",
    "    dtype=[('a', np.uint32), ('income', np.ndarray)])\n",
    "\n",
    "result=matplotlib.mlab.rec_groupby(data, ('a',), (('income',np.mean,'avg_income'),))\n",
    "print result"
   ]
  },
  {
   "cell_type": "code",
   "execution_count": null,
   "metadata": {
    "collapsed": false
   },
   "outputs": [],
   "source": [
    "z = np.zeros([3,np.max(label)+1])\n",
    "k = np.zeros(np.max(label)+1)\n",
    "for i in range(3):\n",
    "    z[label[i],:] = z[label[i],:] + e[i,:]\n",
    "    k[label[i]] = k[label[i]] + 1\n",
    "print z\n",
    "print (z.T/k).T\n",
    "print k"
   ]
  },
  {
   "cell_type": "code",
   "execution_count": null,
   "metadata": {
    "collapsed": false
   },
   "outputs": [],
   "source": [
    "e"
   ]
  },
  {
   "cell_type": "code",
   "execution_count": null,
   "metadata": {
    "collapsed": false
   },
   "outputs": [],
   "source": [
    "label = np.array([1,2,1])\n",
    "np.concatenate(a,label)"
   ]
  },
  {
   "cell_type": "code",
   "execution_count": null,
   "metadata": {
    "collapsed": false
   },
   "outputs": [],
   "source": [
    "print e\n",
    "f = e/np.max(e,0)\n",
    "print f"
   ]
  },
  {
   "cell_type": "code",
   "execution_count": null,
   "metadata": {
    "collapsed": false
   },
   "outputs": [],
   "source": [
    "g = np.sum(f>.8,0)\n",
    "g"
   ]
  },
  {
   "cell_type": "code",
   "execution_count": null,
   "metadata": {
    "collapsed": false
   },
   "outputs": [],
   "source": [
    "ranks = 1 + 3 - rankdata(f,0)\n",
    "ranks"
   ]
  },
  {
   "cell_type": "code",
   "execution_count": null,
   "metadata": {
    "collapsed": false
   },
   "outputs": [],
   "source": [
    "trueranks = np.diag(ranks)\n",
    "trueranks"
   ]
  },
  {
   "cell_type": "code",
   "execution_count": null,
   "metadata": {
    "collapsed": true
   },
   "outputs": [],
   "source": [
    "res = np.maximum(m,trueranks)"
   ]
  },
  {
   "cell_type": "code",
   "execution_count": 14,
   "metadata": {
    "collapsed": false
   },
   "outputs": [
    {
     "name": "stdout",
     "output_type": "stream",
     "text": [
      "False\n"
     ]
    }
   ],
   "source": [
    "a = 2\n",
    "print(a!=2)"
   ]
  },
  {
   "cell_type": "code",
   "execution_count": null,
   "metadata": {
    "collapsed": true
   },
   "outputs": [],
   "source": []
  }
 ],
 "metadata": {
  "kernelspec": {
   "display_name": "Python 2",
   "language": "python",
   "name": "python2"
  },
  "language_info": {
   "codemirror_mode": {
    "name": "ipython",
    "version": 2
   },
   "file_extension": ".py",
   "mimetype": "text/x-python",
   "name": "python",
   "nbconvert_exporter": "python",
   "pygments_lexer": "ipython2",
   "version": "2.7.6"
  }
 },
 "nbformat": 4,
 "nbformat_minor": 0
}
